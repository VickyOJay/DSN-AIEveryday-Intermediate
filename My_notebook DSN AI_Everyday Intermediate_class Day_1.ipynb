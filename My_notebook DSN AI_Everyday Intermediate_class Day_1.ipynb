{
 "cells": [
  {
   "cell_type": "code",
   "execution_count": null,
   "id": "0fd19458",
   "metadata": {},
   "outputs": [],
   "source": [
    "'''Tutors fo this intermediate class:\n",
    "Tejumola Asanloko\n",
    "Adeola Oluwabukunmi\n",
    "\n",
    "''' \n"
   ]
  },
  {
   "cell_type": "code",
   "execution_count": null,
   "id": "7a37986b",
   "metadata": {},
   "outputs": [],
   "source": [
    "# Introduction to AI and ML concepts"
   ]
  },
  {
   "cell_type": "code",
   "execution_count": null,
   "id": "d32e9568",
   "metadata": {},
   "outputs": [],
   "source": [
    "# AI is creating intelligence with machine,\n",
    "# AI, ML, DL\n",
    "'''\n",
    "Machine Learning\n",
    "data - training the machine - building model - predict outcome\n",
    "\n",
    "Algorithm\n",
    "Model\n",
    "Predictor variable \n",
    "Response variable\n",
    "training data\n",
    "testing data\n",
    "'''"
   ]
  },
  {
   "cell_type": "code",
   "execution_count": null,
   "id": "0e34f76e",
   "metadata": {},
   "outputs": [],
   "source": [
    "'''Machine Learning objectives:\n",
    "objective -data_gathering - preparing_data - exploring_data -building_model - model_evaluation - predictions\n",
    "'''"
   ]
  },
  {
   "cell_type": "code",
   "execution_count": null,
   "id": "e8b6df1e",
   "metadata": {},
   "outputs": [],
   "source": [
    "'''Types of ML\n",
    "Supervised - labelled data\n",
    "Unsupervised - unlabelled data\n",
    "Reinforcement - agent is not guided but learns\n",
    "'''"
   ]
  },
  {
   "cell_type": "code",
   "execution_count": null,
   "id": "b67a5cb3",
   "metadata": {},
   "outputs": [],
   "source": [
    "'''\n",
    "Limitations of ML:\n",
    "Curse of dimensionality\n",
    "\n",
    "'''\n",
    "#Deep learing - neural\n",
    "#input layer - hidden layer1 - hidden layer2 - output layer"
   ]
  },
  {
   "cell_type": "code",
   "execution_count": null,
   "id": "05d3347c",
   "metadata": {},
   "outputs": [],
   "source": [
    "'''  \n",
    "Applications:\n",
    "recommender systems\n",
    "medicaldiagnosis\n",
    "fraud detection\n",
    "financial service\n",
    "traffic solutions\n",
    "'''"
   ]
  }
 ],
 "metadata": {
  "kernelspec": {
   "display_name": "Python 3 (ipykernel)",
   "language": "python",
   "name": "python3"
  },
  "language_info": {
   "codemirror_mode": {
    "name": "ipython",
    "version": 3
   },
   "file_extension": ".py",
   "mimetype": "text/x-python",
   "name": "python",
   "nbconvert_exporter": "python",
   "pygments_lexer": "ipython3",
   "version": "3.9.13"
  }
 },
 "nbformat": 4,
 "nbformat_minor": 5
}
