{
 "cells": [
  {
   "cell_type": "code",
   "execution_count": null,
   "id": "db26b576",
   "metadata": {},
   "outputs": [],
   "source": [
    "# Day2 Introduction to python_libraries_numpy_and_pandas"
   ]
  },
  {
   "cell_type": "code",
   "execution_count": null,
   "id": "f936af80",
   "metadata": {},
   "outputs": [],
   "source": [
    "# NUMPY - for calculations"
   ]
  },
  {
   "cell_type": "code",
   "execution_count": 2,
   "id": "ece183f0",
   "metadata": {},
   "outputs": [],
   "source": [
    "import numpy\n",
    "import numpy as np"
   ]
  },
  {
   "cell_type": "code",
   "execution_count": 3,
   "id": "9bc9728c",
   "metadata": {},
   "outputs": [
    {
     "name": "stdout",
     "output_type": "stream",
     "text": [
      "[1 2 3 4 5]\n",
      "The shape of x is (5,)\n",
      "[ 9 10]\n",
      "The shape of y is (2,)\n"
     ]
    }
   ],
   "source": [
    "# creating a 1 demsional array\n",
    "\n",
    "x = np.array([1,2,3,4,5])\n",
    "y = np.array([9,10])\n",
    "print(x)\n",
    "print('The shape of x is', x.shape)\n",
    "\n",
    "print(y)\n",
    "print('The shape of y is', y.shape)\n"
   ]
  },
  {
   "cell_type": "code",
   "execution_count": 4,
   "id": "7311f4c9",
   "metadata": {},
   "outputs": [
    {
     "name": "stdout",
     "output_type": "stream",
     "text": [
      "[[1 2]\n",
      " [3 4]]\n",
      "The shape of z is (2, 2)\n"
     ]
    }
   ],
   "source": [
    "# creating 2D arrays\n",
    "z = np.array([[1,2], [3,4]])\n",
    "\n",
    "print(z)\n",
    "print('The shape of z is', z.shape)"
   ]
  },
  {
   "cell_type": "code",
   "execution_count": 6,
   "id": "230db81b",
   "metadata": {},
   "outputs": [
    {
     "name": "stdout",
     "output_type": "stream",
     "text": [
      "[[[ 1  2  3]\n",
      "  [ 4  5  6]\n",
      "  [ 7  8  9]]\n",
      "\n",
      " [[10 11 12]\n",
      "  [13 14 15]\n",
      "  [16 17 18]]\n",
      "\n",
      " [[19 20 21]\n",
      "  [22 23 24]\n",
      "  [25 26 27]]] \n",
      "\n",
      "The shape of w is (3, 3, 3)\n"
     ]
    }
   ],
   "source": [
    "# creating a multidimensuinal array\n",
    "\n",
    "w = np.array([[[1,2,3], [4,5,6], [7,8,9]], [[10,11,12], [13,14,15], [16,17,18]], [[19,20,21], [22,23,24], [25,26,27]]])\n",
    "print(w, '\\n')\n",
    "print('The shape of w is', w.shape)"
   ]
  },
  {
   "cell_type": "code",
   "execution_count": 12,
   "id": "6d4a66ee",
   "metadata": {},
   "outputs": [
    {
     "name": "stdout",
     "output_type": "stream",
     "text": [
      "[0 1 2 3 4 5 6 7 8 9]\n"
     ]
    }
   ],
   "source": [
    "# arrange is used to create arrays with values in a specified way\n",
    " \n",
    "A10 = np.arange(10)\n",
    "A10\n",
    "print(A10)"
   ]
  },
  {
   "cell_type": "code",
   "execution_count": 13,
   "id": "ff2b26c3",
   "metadata": {},
   "outputs": [
    {
     "name": "stdout",
     "output_type": "stream",
     "text": [
      "(10,)\n"
     ]
    }
   ],
   "source": [
    "A10 = np.arange(10)\n",
    "A10\n",
    "print(A10.shape)"
   ]
  },
  {
   "cell_type": "code",
   "execution_count": 14,
   "id": "e576b41f",
   "metadata": {},
   "outputs": [
    {
     "name": "stdout",
     "output_type": "stream",
     "text": [
      "[0 1 2 3 4 5 6 7 8 9] \n",
      " [[0]\n",
      " [1]\n",
      " [2]\n",
      " [3]\n",
      " [4]\n",
      " [5]\n",
      " [6]\n",
      " [7]\n",
      " [8]\n",
      " [9]]\n",
      "The shape of 1D array X =  (10, 1)\n"
     ]
    }
   ],
   "source": [
    "# to change a scalar matrix to vector\n",
    "#vector matrix = with one column\n",
    "\n",
    "B10 = A10.reshape(-1,1)\n",
    "\n",
    "print( A10, '\\n', B10)\n",
    "print('The shape of 1D array X = ', B10.shape)"
   ]
  },
  {
   "cell_type": "code",
   "execution_count": 15,
   "id": "d9c4f176",
   "metadata": {},
   "outputs": [
    {
     "name": "stdout",
     "output_type": "stream",
     "text": [
      "[[0 1 2 3 4]\n",
      " [5 6 7 8 9]]\n",
      "The shape if 1D array X =  (2, 5)\n"
     ]
    }
   ],
   "source": [
    "A10 = B10.reshape(2,5)\n",
    "\n",
    "print ( A10)\n",
    "print ('The shape if 1D array X = ', A10.shape)"
   ]
  },
  {
   "cell_type": "code",
   "execution_count": 16,
   "id": "9907a1ba",
   "metadata": {},
   "outputs": [
    {
     "data": {
      "text/plain": [
       "array([[0., 0., 0.],\n",
       "       [0., 0., 0.]])"
      ]
     },
     "execution_count": 16,
     "metadata": {},
     "output_type": "execute_result"
    }
   ],
   "source": [
    "#zeros is used to create an array filled with zeros\n",
    "\n",
    "np_Zeros = np.zeros((2,3))\n",
    "np_Zeros"
   ]
  },
  {
   "cell_type": "code",
   "execution_count": 22,
   "id": "3a34b4b4",
   "metadata": {},
   "outputs": [
    {
     "data": {
      "text/plain": [
       "array([[0, 0, 0],\n",
       "       [0, 0, 0]])"
      ]
     },
     "execution_count": 22,
     "metadata": {},
     "output_type": "execute_result"
    }
   ],
   "source": [
    "\n",
    "np_Zeros = np.zeros((2,3))\n",
    "np_Zeros.astype(int)"
   ]
  },
  {
   "cell_type": "code",
   "execution_count": 17,
   "id": "efc2f0c4",
   "metadata": {},
   "outputs": [
    {
     "data": {
      "text/plain": [
       "array([[0., 0., 0., 0., 0., 0.],\n",
       "       [0., 0., 0., 0., 0., 0.],\n",
       "       [0., 0., 0., 0., 0., 0.],\n",
       "       [0., 0., 0., 0., 0., 0.],\n",
       "       [0., 0., 0., 0., 0., 0.]])"
      ]
     },
     "execution_count": 17,
     "metadata": {},
     "output_type": "execute_result"
    }
   ],
   "source": [
    "np_zeros = np.zeros((5,6))\n",
    "np_zeros"
   ]
  },
  {
   "cell_type": "code",
   "execution_count": 21,
   "id": "65872b84",
   "metadata": {},
   "outputs": [
    {
     "data": {
      "text/plain": [
       "array([[1., 1., 1.],\n",
       "       [1., 1., 1.]])"
      ]
     },
     "execution_count": 21,
     "metadata": {},
     "output_type": "execute_result"
    }
   ],
   "source": [
    "#ones is used to create an array filled with ones\n",
    "np_Ones = np.ones((2,3))\n",
    "np_Ones"
   ]
  },
  {
   "cell_type": "code",
   "execution_count": 23,
   "id": "6caee0a0",
   "metadata": {},
   "outputs": [
    {
     "data": {
      "text/plain": [
       "array([[4, 4, 4],\n",
       "       [4, 4, 4]])"
      ]
     },
     "execution_count": 23,
     "metadata": {},
     "output_type": "execute_result"
    }
   ],
   "source": [
    "#functions creates a n* n array filled with a specified given value\n",
    "np_full = np.full((2,3), 4)\n",
    "\n",
    "np_full"
   ]
  },
  {
   "cell_type": "code",
   "execution_count": 25,
   "id": "9bdd3bae",
   "metadata": {},
   "outputs": [
    {
     "data": {
      "text/plain": [
       "array([[1., 0., 0., 0., 0., 0.],\n",
       "       [0., 1., 0., 0., 0., 0.],\n",
       "       [0., 0., 1., 0., 0., 0.],\n",
       "       [0., 0., 0., 1., 0., 0.],\n",
       "       [0., 0., 0., 0., 1., 0.],\n",
       "       [0., 0., 0., 0., 0., 1.]])"
      ]
     },
     "execution_count": 25,
     "metadata": {},
     "output_type": "execute_result"
    }
   ],
   "source": [
    "np_eye = np.eye(6,6)\n",
    "\n",
    "np_eye"
   ]
  },
  {
   "cell_type": "code",
   "execution_count": 27,
   "id": "00c0606a",
   "metadata": {},
   "outputs": [
    {
     "data": {
      "text/plain": [
       "<function numpy.linspace(start, stop, num=50, endpoint=True, retstep=False, dtype=None, axis=0)>"
      ]
     },
     "execution_count": 27,
     "metadata": {},
     "output_type": "execute_result"
    }
   ],
   "source": [
    "#linspace returns evenly spaced numbers over a specified value\n",
    "np_linspace = np.linspace(0, 10, num = 6)\n",
    "\n",
    "np.linspace"
   ]
  },
  {
   "cell_type": "code",
   "execution_count": 28,
   "id": "67a87b8a",
   "metadata": {},
   "outputs": [
    {
     "data": {
      "text/plain": [
       "<function numpy.linspace(start, stop, num=50, endpoint=True, retstep=False, dtype=None, axis=0)>"
      ]
     },
     "execution_count": 28,
     "metadata": {},
     "output_type": "execute_result"
    }
   ],
   "source": [
    "#linspace returns evenly spaced numbers over a specified value\n",
    "np_linspace = np.linspace(0, 10, num = 5)\n",
    "\n",
    "np.linspace"
   ]
  },
  {
   "cell_type": "code",
   "execution_count": 29,
   "id": "4659b25c",
   "metadata": {},
   "outputs": [
    {
     "name": "stdout",
     "output_type": "stream",
     "text": [
      "[[0.91572519 0.81113106 0.40391791]\n",
      " [0.48544967 0.96952325 0.73830214]]\n",
      "[[0.08754105 0.97880627 0.17303142]\n",
      " [0.26228315 0.21598557 0.13155273]]\n"
     ]
    },
    {
     "data": {
      "text/plain": [
       "array([[8, 3, 0],\n",
       "       [0, 1, 2],\n",
       "       [6, 3, 9],\n",
       "       [7, 7, 3],\n",
       "       [6, 3, 3]])"
      ]
     },
     "execution_count": 29,
     "metadata": {},
     "output_type": "execute_result"
    }
   ],
   "source": [
    "#this creates an array filled with random vlaues between o and 1\n",
    "np_rand = np.random.random_sample((2,3))\n",
    "\n",
    "np_rand1 = np.random.rand(2,3)\n",
    "\n",
    "x = np.random.randint(10, size=(5,3))\n",
    "\n",
    "print(np_rand)\n",
    "\n",
    "print(np_rand1)\n",
    "x"
   ]
  },
  {
   "cell_type": "code",
   "execution_count": 31,
   "id": "7729b2c0",
   "metadata": {},
   "outputs": [
    {
     "name": "stdout",
     "output_type": "stream",
     "text": [
      "[[0.27022953 0.76982073 0.85485776]\n",
      " [0.7131088  0.85083551 0.17730267]]\n",
      "[[0.56813448 0.48595592 0.63163525]\n",
      " [0.18970474 0.71255918 0.81718444]]\n",
      "[[9 5 8]\n",
      " [2 0 2]\n",
      " [7 2 7]\n",
      " [5 1 9]\n",
      " [7 6 1]]\n",
      "[[0.27022953 0.76982073 0.85485776]\n",
      " [0.7131088  0.85083551 0.17730267]]\n"
     ]
    }
   ],
   "source": [
    "#this creates an array filled with random vlaues between o and 1\n",
    "np_rand = np.random.random_sample((2,3))\n",
    "\n",
    "np_rand1 = np.random.rand(2,3)\n",
    "\n",
    "x = np.random.randint(10, size=(5,3))\n",
    "np.save('array_data.npy', np_rand)\n",
    "\n",
    "print(np_rand)\n",
    "\n",
    "print(np_rand1)\n",
    "print(x)\n",
    "print(np_rand)"
   ]
  },
  {
   "cell_type": "code",
   "execution_count": 32,
   "id": "4147c1a3",
   "metadata": {},
   "outputs": [
    {
     "name": "stdout",
     "output_type": "stream",
     "text": [
      "[[1 2]\n",
      " [3 4]]\n"
     ]
    },
    {
     "data": {
      "text/plain": [
       "3"
      ]
     },
     "execution_count": 32,
     "metadata": {},
     "output_type": "execute_result"
    }
   ],
   "source": [
    "#row 1, column 0 gives a scalar\n",
    "print(z)\n",
    "z[1,0]"
   ]
  },
  {
   "cell_type": "code",
   "execution_count": 34,
   "id": "f7f611c4",
   "metadata": {},
   "outputs": [
    {
     "name": "stdout",
     "output_type": "stream",
     "text": [
      "[[1 2]\n",
      " [3 4]]\n"
     ]
    },
    {
     "data": {
      "text/plain": [
       "[[1, 2], [3, 4]]"
      ]
     },
     "execution_count": 34,
     "metadata": {},
     "output_type": "execute_result"
    }
   ],
   "source": [
    "#row 1, column 0 gives a scalar\n",
    "print(z)\n",
    "z[1,0]\n",
    "[[1, 2], [3, 4]]"
   ]
  },
  {
   "cell_type": "code",
   "execution_count": 37,
   "id": "f4d18556",
   "metadata": {},
   "outputs": [
    {
     "name": "stdout",
     "output_type": "stream",
     "text": [
      "[[1 2]\n",
      " [3 4]]\n"
     ]
    },
    {
     "data": {
      "text/plain": [
       "4"
      ]
     },
     "execution_count": 37,
     "metadata": {},
     "output_type": "execute_result"
    }
   ],
   "source": [
    "#row 1, column 0 gives a scalar\n",
    "print(z)\n",
    "z[1,1]"
   ]
  },
  {
   "cell_type": "code",
   "execution_count": 38,
   "id": "00e2e07c",
   "metadata": {},
   "outputs": [
    {
     "data": {
      "text/plain": [
       "3"
      ]
     },
     "execution_count": 38,
     "metadata": {},
     "output_type": "execute_result"
    }
   ],
   "source": [
    "#or\n",
    "\n",
    "p = z[1][0]\n",
    "\n",
    "p"
   ]
  },
  {
   "cell_type": "code",
   "execution_count": 40,
   "id": "0574248f",
   "metadata": {},
   "outputs": [
    {
     "name": "stdout",
     "output_type": "stream",
     "text": [
      "[[1 2]\n",
      " [3 4]]\n"
     ]
    }
   ],
   "source": [
    "p = np.array([[1,2], [3,4]])\n",
    "print(p)"
   ]
  },
  {
   "cell_type": "code",
   "execution_count": 39,
   "id": "cc57e43a",
   "metadata": {},
   "outputs": [
    {
     "data": {
      "text/plain": [
       "3"
      ]
     },
     "execution_count": 39,
     "metadata": {},
     "output_type": "execute_result"
    }
   ],
   "source": [
    "p = z[1][0]\n",
    "\n",
    "p"
   ]
  },
  {
   "cell_type": "code",
   "execution_count": 41,
   "id": "ceb86884",
   "metadata": {},
   "outputs": [
    {
     "data": {
      "text/plain": [
       "array([1])"
      ]
     },
     "execution_count": 41,
     "metadata": {},
     "output_type": "execute_result"
    }
   ],
   "source": [
    "p = (z[0:1, 0])\n",
    "p"
   ]
  },
  {
   "cell_type": "markdown",
   "id": "e2fd6e45",
   "metadata": {},
   "source": [
    "# numpy attributes"
   ]
  },
  {
   "cell_type": "code",
   "execution_count": 45,
   "id": "a89eb770",
   "metadata": {},
   "outputs": [
    {
     "name": "stdout",
     "output_type": "stream",
     "text": [
      "The Dtype of element in array X=  int32\n"
     ]
    },
    {
     "ename": "AttributeError",
     "evalue": "'numpy.ndarray' object has no attribute 'dytpe'",
     "output_type": "error",
     "traceback": [
      "\u001b[1;31m---------------------------------------------------------------------------\u001b[0m",
      "\u001b[1;31mAttributeError\u001b[0m                            Traceback (most recent call last)",
      "\u001b[1;32m~\\AppData\\Local\\Temp\\ipykernel_10276\\2418994695.py\u001b[0m in \u001b[0;36m<module>\u001b[1;34m\u001b[0m\n\u001b[0;32m      1\u001b[0m \u001b[0mprint\u001b[0m \u001b[1;33m(\u001b[0m\u001b[1;34m'The Dtype of element in array X= '\u001b[0m\u001b[1;33m,\u001b[0m \u001b[0mx\u001b[0m\u001b[1;33m.\u001b[0m\u001b[0mdtype\u001b[0m\u001b[1;33m)\u001b[0m\u001b[1;33m\u001b[0m\u001b[1;33m\u001b[0m\u001b[0m\n\u001b[0;32m      2\u001b[0m \u001b[1;33m\u001b[0m\u001b[0m\n\u001b[1;32m----> 3\u001b[1;33m \u001b[0mprint\u001b[0m \u001b[1;33m(\u001b[0m\u001b[1;34m'The shape of ND array w='\u001b[0m\u001b[1;33m,\u001b[0m \u001b[0mw\u001b[0m\u001b[1;33m.\u001b[0m\u001b[0mdytpe\u001b[0m\u001b[1;33m)\u001b[0m\u001b[1;33m\u001b[0m\u001b[1;33m\u001b[0m\u001b[0m\n\u001b[0m",
      "\u001b[1;31mAttributeError\u001b[0m: 'numpy.ndarray' object has no attribute 'dytpe'"
     ]
    }
   ],
   "source": [
    "print ('The Dtype of element in array X= ', x.dtype)\n",
    "\n",
    "print ('The shape of ND array w=', w.dytpe)"
   ]
  },
  {
   "cell_type": "code",
   "execution_count": 46,
   "id": "4bf92da2",
   "metadata": {},
   "outputs": [
    {
     "name": "stdout",
     "output_type": "stream",
     "text": [
      "The shape of 1D array X =  (5, 3)\n",
      "The shape of 2D array Z =  (2, 2)\n",
      "The shape of ND array W =  (3, 3, 3)\n",
      "The shape of arange A10 =  (2, 5)\n"
     ]
    }
   ],
   "source": [
    "print ('The shape of 1D array X = ', x.shape)\n",
    "print ('The shape of 2D array Z = ', z.shape)\n",
    "print ('The shape of ND array W = ', w.shape)\n",
    "print ('The shape of arange A10 = ', A10.shape)"
   ]
  },
  {
   "cell_type": "code",
   "execution_count": 47,
   "id": "110b4b9b",
   "metadata": {},
   "outputs": [
    {
     "name": "stdout",
     "output_type": "stream",
     "text": [
      "The shape of ND array W =  27\n",
      "The shape of arange A10 =  10\n"
     ]
    }
   ],
   "source": [
    "print ('The shape of ND array W = ', w.size)\n",
    "print ('The shape of arange A10 = ', A10.size)"
   ]
  },
  {
   "cell_type": "raw",
   "id": "3ed248a2",
   "metadata": {},
   "source": [
    "# Numpy array math operation"
   ]
  },
  {
   "cell_type": "code",
   "execution_count": 48,
   "id": "3ab1e527",
   "metadata": {},
   "outputs": [],
   "source": [
    "x = np.array([[1,2,3],[4,5,6]])\n",
    "x = np.array([[2,2,2],[3,3,3]])\n",
    "x = np.array([1,2,3])"
   ]
  },
  {
   "cell_type": "code",
   "execution_count": 49,
   "id": "f5eb3a1d",
   "metadata": {},
   "outputs": [
    {
     "data": {
      "text/plain": [
       "array([[1, 4],\n",
       "       [2, 5],\n",
       "       [3, 6]])"
      ]
     },
     "execution_count": 49,
     "metadata": {},
     "output_type": "execute_result"
    }
   ],
   "source": [
    "#transpose a matrix\n",
    "\n",
    "x.T"
   ]
  }
 ],
 "metadata": {
  "kernelspec": {
   "display_name": "Python 3 (ipykernel)",
   "language": "python",
   "name": "python3"
  },
  "language_info": {
   "codemirror_mode": {
    "name": "ipython",
    "version": 3
   },
   "file_extension": ".py",
   "mimetype": "text/x-python",
   "name": "python",
   "nbconvert_exporter": "python",
   "pygments_lexer": "ipython3",
   "version": "3.9.13"
  }
 },
 "nbformat": 4,
 "nbformat_minor": 5
}
